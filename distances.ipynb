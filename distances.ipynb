{
 "cells": [
  {
   "cell_type": "code",
   "execution_count": 2,
   "id": "ae8dcf95",
   "metadata": {},
   "outputs": [],
   "source": [
    "import numpy as np\n",
    "import os\n",
    "from glob import glob\n",
    "import csv\n",
    "import pandas as pd"
   ]
  },
  {
   "cell_type": "code",
   "execution_count": 5,
   "id": "1ff32579",
   "metadata": {},
   "outputs": [],
   "source": [
    "unmix = glob(os.path.join('eval_unmix', '**/raw_results.csv'), recursive=True)[0]\n",
    "mix = glob(os.path.join('eval_mix', '**/raw_results.csv'), recursive=True)[0]"
   ]
  },
  {
   "cell_type": "code",
   "execution_count": 6,
   "id": "186b8363",
   "metadata": {},
   "outputs": [],
   "source": [
    "um_data = pd.read_csv(unmix)\n",
    "m_data = pd.read_csv(mix)"
   ]
  },
  {
   "cell_type": "code",
   "execution_count": 7,
   "id": "83c790fb",
   "metadata": {},
   "outputs": [
    {
     "data": {
      "text/html": [
       "<div>\n",
       "<style scoped>\n",
       "    .dataframe tbody tr th:only-of-type {\n",
       "        vertical-align: middle;\n",
       "    }\n",
       "\n",
       "    .dataframe tbody tr th {\n",
       "        vertical-align: top;\n",
       "    }\n",
       "\n",
       "    .dataframe thead th {\n",
       "        text-align: right;\n",
       "    }\n",
       "</style>\n",
       "<table border=\"1\" class=\"dataframe\">\n",
       "  <thead>\n",
       "    <tr style=\"text-align: right;\">\n",
       "      <th></th>\n",
       "      <th>Unnamed: 0</th>\n",
       "      <th>0</th>\n",
       "      <th>1</th>\n",
       "    </tr>\n",
       "  </thead>\n",
       "  <tbody>\n",
       "    <tr>\n",
       "      <th>0</th>\n",
       "      <td>0</td>\n",
       "      <td>Data/catridge/test/deform/039.png</td>\n",
       "      <td>4.294325</td>\n",
       "    </tr>\n",
       "    <tr>\n",
       "      <th>1</th>\n",
       "      <td>1</td>\n",
       "      <td>Data/catridge/test/deform/003.png</td>\n",
       "      <td>5.506176</td>\n",
       "    </tr>\n",
       "    <tr>\n",
       "      <th>2</th>\n",
       "      <td>2</td>\n",
       "      <td>Data/catridge/test/deform/044.png</td>\n",
       "      <td>4.572932</td>\n",
       "    </tr>\n",
       "    <tr>\n",
       "      <th>3</th>\n",
       "      <td>3</td>\n",
       "      <td>Data/catridge/test/deform/030.png</td>\n",
       "      <td>4.200860</td>\n",
       "    </tr>\n",
       "    <tr>\n",
       "      <th>4</th>\n",
       "      <td>4</td>\n",
       "      <td>Data/catridge/test/deform/081.png</td>\n",
       "      <td>5.174550</td>\n",
       "    </tr>\n",
       "    <tr>\n",
       "      <th>...</th>\n",
       "      <td>...</td>\n",
       "      <td>...</td>\n",
       "      <td>...</td>\n",
       "    </tr>\n",
       "    <tr>\n",
       "      <th>755</th>\n",
       "      <td>755</td>\n",
       "      <td>Data/catridge/test/debris/100.png</td>\n",
       "      <td>3.258304</td>\n",
       "    </tr>\n",
       "    <tr>\n",
       "      <th>756</th>\n",
       "      <td>756</td>\n",
       "      <td>Data/catridge/test/debris/115.png</td>\n",
       "      <td>4.666994</td>\n",
       "    </tr>\n",
       "    <tr>\n",
       "      <th>757</th>\n",
       "      <td>757</td>\n",
       "      <td>Data/catridge/test/debris/160.png</td>\n",
       "      <td>3.076677</td>\n",
       "    </tr>\n",
       "    <tr>\n",
       "      <th>758</th>\n",
       "      <td>758</td>\n",
       "      <td>Data/catridge/test/debris/032.png</td>\n",
       "      <td>2.796059</td>\n",
       "    </tr>\n",
       "    <tr>\n",
       "      <th>759</th>\n",
       "      <td>759</td>\n",
       "      <td>Data/catridge/test/debris/104.png</td>\n",
       "      <td>2.682024</td>\n",
       "    </tr>\n",
       "  </tbody>\n",
       "</table>\n",
       "<p>760 rows × 3 columns</p>\n",
       "</div>"
      ],
      "text/plain": [
       "     Unnamed: 0                                  0         1\n",
       "0             0  Data/catridge/test/deform/039.png  4.294325\n",
       "1             1  Data/catridge/test/deform/003.png  5.506176\n",
       "2             2  Data/catridge/test/deform/044.png  4.572932\n",
       "3             3  Data/catridge/test/deform/030.png  4.200860\n",
       "4             4  Data/catridge/test/deform/081.png  5.174550\n",
       "..          ...                                ...       ...\n",
       "755         755  Data/catridge/test/debris/100.png  3.258304\n",
       "756         756  Data/catridge/test/debris/115.png  4.666994\n",
       "757         757  Data/catridge/test/debris/160.png  3.076677\n",
       "758         758  Data/catridge/test/debris/032.png  2.796059\n",
       "759         759  Data/catridge/test/debris/104.png  2.682024\n",
       "\n",
       "[760 rows x 3 columns]"
      ]
     },
     "execution_count": 7,
     "metadata": {},
     "output_type": "execute_result"
    }
   ],
   "source": [
    "um_data"
   ]
  },
  {
   "cell_type": "code",
   "execution_count": 8,
   "id": "3afdd30e",
   "metadata": {},
   "outputs": [
    {
     "data": {
      "text/html": [
       "<div>\n",
       "<style scoped>\n",
       "    .dataframe tbody tr th:only-of-type {\n",
       "        vertical-align: middle;\n",
       "    }\n",
       "\n",
       "    .dataframe tbody tr th {\n",
       "        vertical-align: top;\n",
       "    }\n",
       "\n",
       "    .dataframe thead th {\n",
       "        text-align: right;\n",
       "    }\n",
       "</style>\n",
       "<table border=\"1\" class=\"dataframe\">\n",
       "  <thead>\n",
       "    <tr style=\"text-align: right;\">\n",
       "      <th></th>\n",
       "      <th>Unnamed: 0</th>\n",
       "      <th>0</th>\n",
       "      <th>1</th>\n",
       "    </tr>\n",
       "  </thead>\n",
       "  <tbody>\n",
       "    <tr>\n",
       "      <th>0</th>\n",
       "      <td>0</td>\n",
       "      <td>Data/catridge/test/deform/039.png</td>\n",
       "      <td>4.294325</td>\n",
       "    </tr>\n",
       "    <tr>\n",
       "      <th>1</th>\n",
       "      <td>1</td>\n",
       "      <td>Data/catridge/test/deform/003.png</td>\n",
       "      <td>5.506176</td>\n",
       "    </tr>\n",
       "    <tr>\n",
       "      <th>2</th>\n",
       "      <td>2</td>\n",
       "      <td>Data/catridge/test/deform/044.png</td>\n",
       "      <td>4.572932</td>\n",
       "    </tr>\n",
       "    <tr>\n",
       "      <th>3</th>\n",
       "      <td>3</td>\n",
       "      <td>Data/catridge/test/deform/030.png</td>\n",
       "      <td>4.200860</td>\n",
       "    </tr>\n",
       "    <tr>\n",
       "      <th>4</th>\n",
       "      <td>4</td>\n",
       "      <td>Data/catridge/test/deform/081.png</td>\n",
       "      <td>5.174550</td>\n",
       "    </tr>\n",
       "    <tr>\n",
       "      <th>...</th>\n",
       "      <td>...</td>\n",
       "      <td>...</td>\n",
       "      <td>...</td>\n",
       "    </tr>\n",
       "    <tr>\n",
       "      <th>775</th>\n",
       "      <td>775</td>\n",
       "      <td>Data/catridge/test/debris/100.png</td>\n",
       "      <td>3.258327</td>\n",
       "    </tr>\n",
       "    <tr>\n",
       "      <th>776</th>\n",
       "      <td>776</td>\n",
       "      <td>Data/catridge/test/debris/115.png</td>\n",
       "      <td>4.666982</td>\n",
       "    </tr>\n",
       "    <tr>\n",
       "      <th>777</th>\n",
       "      <td>777</td>\n",
       "      <td>Data/catridge/test/debris/160.png</td>\n",
       "      <td>3.076675</td>\n",
       "    </tr>\n",
       "    <tr>\n",
       "      <th>778</th>\n",
       "      <td>778</td>\n",
       "      <td>Data/catridge/test/debris/032.png</td>\n",
       "      <td>2.796076</td>\n",
       "    </tr>\n",
       "    <tr>\n",
       "      <th>779</th>\n",
       "      <td>779</td>\n",
       "      <td>Data/catridge/test/debris/104.png</td>\n",
       "      <td>2.682015</td>\n",
       "    </tr>\n",
       "  </tbody>\n",
       "</table>\n",
       "<p>780 rows × 3 columns</p>\n",
       "</div>"
      ],
      "text/plain": [
       "     Unnamed: 0                                  0         1\n",
       "0             0  Data/catridge/test/deform/039.png  4.294325\n",
       "1             1  Data/catridge/test/deform/003.png  5.506176\n",
       "2             2  Data/catridge/test/deform/044.png  4.572932\n",
       "3             3  Data/catridge/test/deform/030.png  4.200860\n",
       "4             4  Data/catridge/test/deform/081.png  5.174550\n",
       "..          ...                                ...       ...\n",
       "775         775  Data/catridge/test/debris/100.png  3.258327\n",
       "776         776  Data/catridge/test/debris/115.png  4.666982\n",
       "777         777  Data/catridge/test/debris/160.png  3.076675\n",
       "778         778  Data/catridge/test/debris/032.png  2.796076\n",
       "779         779  Data/catridge/test/debris/104.png  2.682015\n",
       "\n",
       "[780 rows x 3 columns]"
      ]
     },
     "execution_count": 8,
     "metadata": {},
     "output_type": "execute_result"
    }
   ],
   "source": [
    "m_data"
   ]
  },
  {
   "cell_type": "code",
   "execution_count": 20,
   "id": "a3ed2c14",
   "metadata": {},
   "outputs": [],
   "source": [
    "def makeStat(data):\n",
    "    stat = {}\n",
    "    for img_dir, dist in zip(data['0'], data['1']):\n",
    "        defect = img_dir.split('/')[-2]\n",
    "        if defect in stat.keys():\n",
    "            stat[defect].append([img_dir, dist])\n",
    "        else:\n",
    "            stat[defect] = [[img_dir, dist]]\n",
    "            \n",
    "    mean_std = {}\n",
    "    for key in stat.keys():\n",
    "        d = []\n",
    "        for img_dir, dist in stat[key]:\n",
    "            d.append(dist)\n",
    "        d = np.array(d)\n",
    "        mean = np.mean(d)\n",
    "        std = np.std(d)\n",
    "        mean_std[key] = [mean, std]\n",
    "    \n",
    "    stat['MS'] = mean_std\n",
    "    \n",
    "    return stat"
   ]
  },
  {
   "cell_type": "code",
   "execution_count": 21,
   "id": "bd60a89e",
   "metadata": {},
   "outputs": [],
   "source": [
    "um_stat = makeStat(um_data)\n",
    "m_stat = makeStat(m_data)"
   ]
  },
  {
   "cell_type": "code",
   "execution_count": 22,
   "id": "33d3d39c",
   "metadata": {},
   "outputs": [
    {
     "data": {
      "text/plain": [
       "{'deform': [4.5081515646706585, 1.543217407330838],\n",
       " 'crack': [3.2582912, 0.2481177407396839],\n",
       " 'mist': [5.100712979545455, 2.3570753165497047],\n",
       " 'angle': [7.438534135483872, 5.711074101676576],\n",
       " 'broken': [3.63424053699422, 0.7376581672911529],\n",
       " 'good': [3.1052310875, 0.9854301562985277],\n",
       " 'debris': [4.172389109411765, 1.3039771382031125]}"
      ]
     },
     "execution_count": 22,
     "metadata": {},
     "output_type": "execute_result"
    }
   ],
   "source": [
    "um_stat['MS']"
   ]
  },
  {
   "cell_type": "code",
   "execution_count": 23,
   "id": "e34be087",
   "metadata": {},
   "outputs": [
    {
     "data": {
      "text/plain": [
       "{'deform': [4.508151988023952, 1.5432172166157399],\n",
       " 'crack': [3.2582912, 0.2481177407396839],\n",
       " 'mist': [5.100713253409091, 2.35707515280761],\n",
       " 'angle': [7.438533440322582, 5.711073627075399],\n",
       " 'broken': [3.634240676878612, 0.7376581963020677],\n",
       " 'good': [2.949780057142857, 0.8299422275421409],\n",
       " 'debris': [4.172389504117647, 1.303976696445045]}"
      ]
     },
     "execution_count": 23,
     "metadata": {},
     "output_type": "execute_result"
    }
   ],
   "source": [
    "m_stat['MS']"
   ]
  },
  {
   "cell_type": "code",
   "execution_count": 24,
   "id": "dfc9148c",
   "metadata": {},
   "outputs": [],
   "source": [
    "um_np = np.array(um_data)"
   ]
  },
  {
   "cell_type": "code",
   "execution_count": 30,
   "id": "16ffb306",
   "metadata": {},
   "outputs": [],
   "source": [
    "um_bads = np.where(um_np[:,2] > um_stat['MS']['good'][0])[0]"
   ]
  },
  {
   "cell_type": "code",
   "execution_count": 32,
   "id": "b184dea5",
   "metadata": {},
   "outputs": [
    {
     "data": {
      "text/plain": [
       "610"
      ]
     },
     "execution_count": 32,
     "metadata": {},
     "output_type": "execute_result"
    }
   ],
   "source": [
    "len(um_bads)"
   ]
  },
  {
   "cell_type": "code",
   "execution_count": 34,
   "id": "d8da24b1",
   "metadata": {},
   "outputs": [],
   "source": [
    "tp = 0\n",
    "tn = 0\n",
    "fp = 0\n",
    "fn = 0\n",
    "for i in range(len(um_np)):\n",
    "    idx, path, dist = um_np[i]\n",
    "    defect = path.split('/')[-2]\n",
    "    \n",
    "    if idx in um_bads and defect != 'good':\n",
    "        tp += 1\n",
    "    elif idx in um_bads and defect == 'good':\n",
    "        fp += 1\n",
    "    elif not idx in um_bads and defect != 'good':\n",
    "        fn += 1\n",
    "    else:\n",
    "        tn += 1"
   ]
  },
  {
   "cell_type": "code",
   "execution_count": 35,
   "id": "a3f236a1",
   "metadata": {},
   "outputs": [
    {
     "data": {
      "text/plain": [
       "607"
      ]
     },
     "execution_count": 35,
     "metadata": {},
     "output_type": "execute_result"
    }
   ],
   "source": [
    "tp"
   ]
  },
  {
   "cell_type": "code",
   "execution_count": 36,
   "id": "3d782def",
   "metadata": {},
   "outputs": [
    {
     "data": {
      "text/plain": [
       "5"
      ]
     },
     "execution_count": 36,
     "metadata": {},
     "output_type": "execute_result"
    }
   ],
   "source": [
    "tn"
   ]
  },
  {
   "cell_type": "code",
   "execution_count": 37,
   "id": "d9e89d96",
   "metadata": {},
   "outputs": [
    {
     "data": {
      "text/plain": [
       "3"
      ]
     },
     "execution_count": 37,
     "metadata": {},
     "output_type": "execute_result"
    }
   ],
   "source": [
    "fp"
   ]
  },
  {
   "cell_type": "code",
   "execution_count": 38,
   "id": "7bf3e640",
   "metadata": {},
   "outputs": [
    {
     "data": {
      "text/plain": [
       "145"
      ]
     },
     "execution_count": 38,
     "metadata": {},
     "output_type": "execute_result"
    }
   ],
   "source": [
    "fn"
   ]
  }
 ],
 "metadata": {
  "kernelspec": {
   "display_name": "Python 3 (ipykernel)",
   "language": "python",
   "name": "python3"
  },
  "language_info": {
   "codemirror_mode": {
    "name": "ipython",
    "version": 3
   },
   "file_extension": ".py",
   "mimetype": "text/x-python",
   "name": "python",
   "nbconvert_exporter": "python",
   "pygments_lexer": "ipython3",
   "version": "3.8.13"
  }
 },
 "nbformat": 4,
 "nbformat_minor": 5
}
